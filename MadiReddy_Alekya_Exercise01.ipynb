{
  "cells": [
    {
      "cell_type": "markdown",
      "metadata": {
        "id": "view-in-github",
        "colab_type": "text"
      },
      "source": [
        "<a href=\"https://colab.research.google.com/github/AlekyaMadiReddy/Alekya_INFO5731_Fall2023/blob/main/MadiReddy_Alekya_Exercise01.ipynb\" target=\"_parent\"><img src=\"https://colab.research.google.com/assets/colab-badge.svg\" alt=\"Open In Colab\"/></a>"
      ]
    },
    {
      "cell_type": "markdown",
      "metadata": {
        "id": "DymRJbxDBCnf"
      },
      "source": [
        "# **The first In-class-exercise (08/30/2023, 40 points in total)**\n",
        "This exercise is due tomorrow 08/31/203 11:59 PM.\n"
      ]
    },
    {
      "cell_type": "markdown",
      "metadata": {
        "id": "FBKvD6O_TY6e"
      },
      "source": [
        "(1) Write a Python program to calculate the area of a rectangle using user-input length and width."
      ]
    },
    {
      "cell_type": "code",
      "execution_count": 29,
      "metadata": {
        "id": "cikVKDXdTbzE",
        "colab": {
          "base_uri": "https://localhost:8080/"
        },
        "outputId": "d6d192d0-b7e7-46ef-e1c7-491cec586aad"
      },
      "outputs": [
        {
          "output_type": "stream",
          "name": "stdout",
          "text": [
            "Enter the length of the rectangle: 8\n",
            "Enter the width of the rectangle: 6\n",
            "The area of the rectangle is 48.0\n"
          ]
        }
      ],
      "source": [
        "def calculate_area(length, width):\n",
        "\n",
        "  return length * width\n",
        "\n",
        "\n",
        "def main():\n",
        "  # Get the length and width of the rectangle from the user.\n",
        "  length = float(input(\"Enter the length of the rectangle: \"))\n",
        "  width = float(input(\"Enter the width of the rectangle: \"))\n",
        "\n",
        "  # Calculate the area of the rectangle.\n",
        "  area = calculate_area(length, width)\n",
        "\n",
        "  # Print the area of the rectangle.\n",
        "  print(\"The area of the rectangle is\", area)\n",
        "\n",
        "\n",
        "if __name__ == \"__main__\":\n",
        "  main()\n"
      ]
    },
    {
      "cell_type": "markdown",
      "metadata": {
        "id": "E9RqrlwdTfvl"
      },
      "source": [
        "(2) Create a program that takes two numbers from the user and swaps their values without using a temporary variable."
      ]
    },
    {
      "cell_type": "code",
      "execution_count": 1,
      "metadata": {
        "id": "4XvRknixTh1g",
        "colab": {
          "base_uri": "https://localhost:8080/"
        },
        "outputId": "d07051b6-9bfb-41c5-cc36-f53568eaeeb5"
      },
      "outputs": [
        {
          "output_type": "stream",
          "name": "stdout",
          "text": [
            "Enter the first number: 6\n",
            "Enter the second number: 9\n",
            "before swapping the numbers are: 6 9\n",
            "after swapping the numbers are: 9 6\n"
          ]
        }
      ],
      "source": [
        "def swap_numbers(num1, num2):\n",
        "  num1 = num1 + num2\n",
        "  num2 = num1 - num2\n",
        "  num1 = num1 - num2\n",
        "  return num1, num2\n",
        "\n",
        "num1 = int(input(\"Enter the first number: \"))\n",
        "num2 = int(input(\"Enter the second number: \"))\n",
        "\n",
        "print(\"before swapping the numbers are:\", num1, num2)\n",
        "num1, num2 = swap_numbers(num1, num2)\n",
        "print(\"after swapping the numbers are:\", num1, num2)\n",
        "\n"
      ]
    },
    {
      "cell_type": "markdown",
      "metadata": {
        "id": "03jb4GZsBkBS"
      },
      "source": [
        "(3) Write a Python program to calculate the length of a string."
      ]
    },
    {
      "cell_type": "code",
      "execution_count": 4,
      "metadata": {
        "id": "YaGLbSHHB8Ej",
        "colab": {
          "base_uri": "https://localhost:8080/"
        },
        "outputId": "6731ca5b-b3fb-4a50-b69c-5cffb919f6e8"
      },
      "outputs": [
        {
          "output_type": "stream",
          "name": "stdout",
          "text": [
            "The length of the string is: 22\n"
          ]
        }
      ],
      "source": [
        "def length_of_string(str1):\n",
        "  length = 0\n",
        "  for i in str1:\n",
        "    length += 1\n",
        "  return length\n",
        "\n",
        "str1 = \"College of Information\"\n",
        "print(\"The length of the string is:\", length_of_string(str1))\n"
      ]
    },
    {
      "cell_type": "markdown",
      "metadata": {
        "id": "jJDe71iLB616"
      },
      "source": [
        "(4) Write a Python program to count the number of characters in a string.\n",
        "\n",
        "Sample String : 'google.com‘,\n",
        "\n",
        "Expected Result : {'o': 3, 'g': 2, '.': 1, 'e': 1, 'l': 1, 'm': 1, 'c': 1}"
      ]
    },
    {
      "cell_type": "code",
      "execution_count": 5,
      "metadata": {
        "id": "MtKskTzbCLaU",
        "colab": {
          "base_uri": "https://localhost:8080/"
        },
        "outputId": "803bd2c9-03ed-454b-dca9-1c8454a11fb4"
      },
      "outputs": [
        {
          "output_type": "stream",
          "name": "stdout",
          "text": [
            "{'D': 1, 'A': 2, 'T': 1, ' ': 1, 'S': 1, 'C': 2, 'I': 1, 'E': 2, 'N': 1}\n"
          ]
        }
      ],
      "source": [
        "def count_characters(str1):\n",
        "  char_counts = {}\n",
        "  for char in str1:\n",
        "    if char in char_counts:\n",
        "      char_counts[char] += 1\n",
        "    else:\n",
        "      char_counts[char] = 1\n",
        "  return char_counts\n",
        "\n",
        "str1 = \"DATA SCIENCE\"\n",
        "print(count_characters(str1))\n"
      ]
    },
    {
      "cell_type": "markdown",
      "metadata": {
        "id": "55W9AMdXCSpV"
      },
      "source": [
        "(5) Write a Python program to sum all the items in a list."
      ]
    },
    {
      "cell_type": "code",
      "execution_count": 6,
      "metadata": {
        "id": "I57NXsauCec2",
        "colab": {
          "base_uri": "https://localhost:8080/"
        },
        "outputId": "3637bc3d-f31b-4815-d0e6-a98fd89a3c2b"
      },
      "outputs": [
        {
          "output_type": "stream",
          "name": "stdout",
          "text": [
            "The sum of the list is: 35\n"
          ]
        }
      ],
      "source": [
        "def sum_list(list1):\n",
        "  sum = 0\n",
        "  for num in list1:\n",
        "    sum += num\n",
        "  return sum\n",
        "\n",
        "list1 = [9, 8, 7, 6, 5]\n",
        "print(\"The sum of the list is:\", sum_list(list1))\n"
      ]
    },
    {
      "cell_type": "markdown",
      "metadata": {
        "id": "4ulBZ6yhCi9F"
      },
      "source": [
        "(6) Write a Python program to get a string from a given string where all occurrences of its first char have been changed to '\\$', except the first char itself.\n",
        "\n",
        "Sample String : 'restart‘,\n",
        "\n",
        "Expected Result : 'resta\\$t'"
      ]
    },
    {
      "cell_type": "code",
      "execution_count": 7,
      "metadata": {
        "id": "Fj0XhwbBCw2o",
        "colab": {
          "base_uri": "https://localhost:8080/"
        },
        "outputId": "60084e3c-60eb-4e71-bcee-90fc1d2a698a"
      },
      "outputs": [
        {
          "output_type": "stream",
          "name": "stdout",
          "text": [
            "$NIVERSITY\n"
          ]
        }
      ],
      "source": [
        "def replace_char(str1):\n",
        "  first_char = str1[0]\n",
        "  new_str = \"\"\n",
        "  for char in str1:\n",
        "    if char == first_char:\n",
        "      new_str += \"$\"\n",
        "    else:\n",
        "      new_str += char\n",
        "  return new_str\n",
        "\n",
        "str1 = \"UNIVERSITY\"\n",
        "print(replace_char(str1))\n"
      ]
    },
    {
      "cell_type": "markdown",
      "metadata": {
        "id": "qVXA3q7ET5JI"
      },
      "source": [
        "(7) Create a program that calculates the factorial of a number using a while loop."
      ]
    },
    {
      "cell_type": "code",
      "execution_count": 9,
      "metadata": {
        "id": "Lbt7R6UkT7BA",
        "colab": {
          "base_uri": "https://localhost:8080/"
        },
        "outputId": "35ccc373-8d2a-47fb-f130-424771516a3b"
      },
      "outputs": [
        {
          "output_type": "stream",
          "name": "stdout",
          "text": [
            "The factorial of 9 is 362880\n"
          ]
        }
      ],
      "source": [
        "def factorial(n):\n",
        "  factorial = 1\n",
        "  i = 1\n",
        "  while i <= n:\n",
        "    factorial *= i\n",
        "    i += 1\n",
        "  return factorial\n",
        "\n",
        "number = 9\n",
        "print(\"The factorial of\", number, \"is\", factorial(number))\n"
      ]
    },
    {
      "cell_type": "markdown",
      "metadata": {
        "id": "6YfbzXMNT--R"
      },
      "source": [
        "(8) Create a program that takes a list of numbers as input and outputs a new list with only the even numbers."
      ]
    },
    {
      "cell_type": "code",
      "execution_count": 10,
      "metadata": {
        "id": "54q7wMQPUAKu",
        "colab": {
          "base_uri": "https://localhost:8080/"
        },
        "outputId": "e6882b45-5202-49f7-8f7d-d9e36a3866c7"
      },
      "outputs": [
        {
          "output_type": "stream",
          "name": "stdout",
          "text": [
            "[22, 24, 26, 28, 30]\n"
          ]
        }
      ],
      "source": [
        "def get_even_numbers(list1):\n",
        "  even_numbers = []\n",
        "  for num in list1:\n",
        "    if num % 2 == 0:\n",
        "      even_numbers.append(num)\n",
        "  return even_numbers\n",
        "\n",
        "list1 = [21, 22, 23, 24, 25, 26, 27, 28, 29, 30]\n",
        "even_numbers = get_even_numbers(list1)\n",
        "print(even_numbers)\n"
      ]
    },
    {
      "cell_type": "markdown",
      "metadata": {
        "id": "_bIP7s1MCzue"
      },
      "source": [
        "(9) Write a program with python which could accept two parameter a and b to calculate and output the result of S, where\n",
        "\n",
        "$\\ S=3.14*(1+a/b)^3$\n",
        "\n"
      ]
    },
    {
      "cell_type": "code",
      "execution_count": 11,
      "metadata": {
        "id": "w79QilHXD3Mg",
        "colab": {
          "base_uri": "https://localhost:8080/"
        },
        "outputId": "5bf92167-0746-45fc-92f7-cfea6d86aca7"
      },
      "outputs": [
        {
          "output_type": "stream",
          "name": "stdout",
          "text": [
            "S =  18.312480000000004\n"
          ]
        }
      ],
      "source": [
        "def calculate_s(a, b):\n",
        "  S = 3.14 * (1 + a / b) ** 3\n",
        "  return S\n",
        "\n",
        "a = 4\n",
        "b = 5\n",
        "S = calculate_s(a, b)\n",
        "print(\"S = \", S)\n"
      ]
    },
    {
      "cell_type": "markdown",
      "metadata": {
        "id": "xCa2bK9aD4Q3"
      },
      "source": [
        "(10) Write a Python program to concatenate following dictionaries to create a new one.\n",
        "\n",
        "Sample Dictionary : dic1={1:10, 2:20}, dic2={3:30, 4:40}, dic3={5:50,6:60},\n",
        "\n",
        "Expected Result : {1: 10, 2: 20, 3: 30, 4: 40, 5: 50, 6: 60}\n"
      ]
    },
    {
      "cell_type": "code",
      "execution_count": 14,
      "metadata": {
        "id": "_z4aLqAbEET1",
        "colab": {
          "base_uri": "https://localhost:8080/"
        },
        "outputId": "90a567a0-c216-4a44-db3e-322aab3af657"
      },
      "outputs": [
        {
          "output_type": "stream",
          "name": "stdout",
          "text": [
            "{1: 10, 2: 20, 3: 30, 4: 40, 5: 50, 6: 60}\n"
          ]
        }
      ],
      "source": [
        "dict1 = {1: 10, 2: 20}\n",
        "dict2 = {3: 30, 4: 40}\n",
        "dict3 = {5: 50, 6: 60}\n",
        "\n",
        "dict4 = dict1.copy()\n",
        "dict4.update(dict2)\n",
        "dict4.update(dict3)\n",
        "\n",
        "print(dict4)\n",
        "\n"
      ]
    },
    {
      "cell_type": "markdown",
      "metadata": {
        "id": "bkyZ2xSZUOst"
      },
      "source": [
        "(11) Write a Python function that accepts a tuple of integers and returns the largest and smallest elements."
      ]
    },
    {
      "cell_type": "code",
      "execution_count": 15,
      "metadata": {
        "id": "3FdLRBKOUQEd",
        "colab": {
          "base_uri": "https://localhost:8080/"
        },
        "outputId": "7183b712-3c66-4ac9-d595-15a3f16c862f"
      },
      "outputs": [
        {
          "output_type": "stream",
          "name": "stdout",
          "text": [
            "The largest number is 100\n",
            "The smallest number is 24\n"
          ]
        }
      ],
      "source": [
        "def find_largest_smallest(nums):\n",
        "  largest = nums[0]\n",
        "  smallest = nums[0]\n",
        "  for num in nums:\n",
        "    if num > largest:\n",
        "      largest = num\n",
        "    elif num < smallest:\n",
        "      smallest = num\n",
        "  return largest, smallest\n",
        "\n",
        "nums = (100, 24, 32, 49, 67)\n",
        "largest, smallest = find_largest_smallest(nums)\n",
        "print(\"The largest number is\", largest)\n",
        "print(\"The smallest number is\", smallest)\n"
      ]
    },
    {
      "cell_type": "markdown",
      "metadata": {
        "id": "O0TVi3gKUTpp"
      },
      "source": [
        "(12) Write a Python program that counts the frequency of each character in a given string and stores it in a dictionary."
      ]
    },
    {
      "cell_type": "code",
      "execution_count": 16,
      "metadata": {
        "id": "lAtfSfZXUU-h",
        "colab": {
          "base_uri": "https://localhost:8080/"
        },
        "outputId": "9dfe293a-d99e-4701-9374-722107936f74"
      },
      "outputs": [
        {
          "output_type": "stream",
          "name": "stdout",
          "text": [
            "{'D': 1, 'A': 2, 'T': 1, ' ': 1, 'S': 1, 'C': 2, 'I': 1, 'E': 2, 'N': 1}\n"
          ]
        }
      ],
      "source": [
        "def count_characters(str1):\n",
        "  char_counts = {}\n",
        "  for char in str1:\n",
        "    if char in char_counts:\n",
        "      char_counts[char] += 1\n",
        "    else:\n",
        "      char_counts[char] = 1\n",
        "  return char_counts\n",
        "\n",
        "str1 = \"DATA SCIENCE\"\n",
        "char_counts = count_characters(str1)\n",
        "print(char_counts)\n"
      ]
    },
    {
      "cell_type": "markdown",
      "metadata": {
        "id": "0v48Vqa7FrQh"
      },
      "source": [
        "(13) Write a Python program to check whether an element exists within a tuple."
      ]
    },
    {
      "cell_type": "code",
      "execution_count": 17,
      "metadata": {
        "id": "7WEmgq-DF2P1",
        "colab": {
          "base_uri": "https://localhost:8080/"
        },
        "outputId": "4cab58a7-127b-4c30-d956-ab923db5aa1a"
      },
      "outputs": [
        {
          "output_type": "stream",
          "name": "stdout",
          "text": [
            "True\n"
          ]
        }
      ],
      "source": [
        "def check_element_exists(tuple1, element):\n",
        "  exists = False\n",
        "  for ele in tuple1:\n",
        "    if ele == element:\n",
        "      exists = True\n",
        "      break\n",
        "  return exists\n",
        "\n",
        "tuple1 = (10, 20, 30, 40, 50)\n",
        "element = 30\n",
        "\n",
        "print(check_element_exists(tuple1, element))\n"
      ]
    },
    {
      "cell_type": "markdown",
      "metadata": {
        "id": "vD5PYLMuGga_"
      },
      "source": [
        "(14) Write a Python program to find maximum and the minimum value in a set."
      ]
    },
    {
      "cell_type": "code",
      "execution_count": 18,
      "metadata": {
        "id": "t0D5kdJUGjjw",
        "colab": {
          "base_uri": "https://localhost:8080/"
        },
        "outputId": "e630e2bc-43a2-42a9-9090-3890ad923c16"
      },
      "outputs": [
        {
          "output_type": "stream",
          "name": "stdout",
          "text": [
            "The minimum value in the set is 7\n",
            "The maximum value in the set is 100\n"
          ]
        }
      ],
      "source": [
        "def find_min_max(set1):\n",
        "  min_value = min(set1)\n",
        "  max_value = max(set1)\n",
        "  return min_value, max_value\n",
        "\n",
        "set1 = {100, 34, 22, 19, 7}\n",
        "min_value, max_value = find_min_max(set1)\n",
        "print(\"The minimum value in the set is\", min_value)\n",
        "print(\"The maximum value in the set is\", max_value)\n"
      ]
    },
    {
      "cell_type": "markdown",
      "metadata": {
        "id": "uHkd-y5VhVWC"
      },
      "source": [
        "(15) Write a Python program to randomly divide the students in this class into six groups for term projects, each group should have at least 4 students but no more than 6 students (including 6). Here is the students list:\n",
        "student_list_fall_2023=['sb1826' ,\n",
        " 'lb0582' ,\n",
        " 'ab1820' ,\n",
        " 'sb1883' ,\n",
        " 'mb1296' ,\n",
        " 'sc1622' ,\n",
        " 'tc0469' ,\n",
        " 'ac1770' ,\n",
        " 'mc1453' ,\n",
        " 'ad1187' ,\n",
        " 'sd0926' ,\n",
        " 'sd1268' ,\n",
        " 'ag1609' ,\n",
        " 'sg1638' ,\n",
        " 'mg1299' ,\n",
        " 'vkk0022' ,\n",
        " 'bk0413' ,\n",
        " 'gk0257' ,\n",
        " 'am2807' ,\n",
        " 'gm0558' ,\n",
        " 'pm0658' ,\n",
        " 'am2346' ,\n",
        " 'rm1090' ,\n",
        " 'sm2364' ,\n",
        " 'sm2747' ,\n",
        " 'sm2343' ,\n",
        " 'vm0597' ,\n",
        " 'htn0086' ,\n",
        " 'sp2075' ,\n",
        " 'gp0306' ,\n",
        " 'lp0502' ,\n",
        " 'sr1508' ,\n",
        " 'vr0331' ,\n",
        " 'yr0180' ,\n",
        " 'as2819' ,\n",
        " 'ss2981' ,\n",
        " 'ns0756' ,\n",
        " 'mt0825' ,\n",
        " 'dt0463' ,\n",
        " 'su0137' ,\n",
        " 'dv0310'\n",
        "]"
      ]
    },
    {
      "cell_type": "code",
      "execution_count": 32,
      "metadata": {
        "id": "3iGbmcOBhTwy",
        "colab": {
          "base_uri": "https://localhost:8080/"
        },
        "outputId": "17eb30a0-2dd5-487a-d9a1-91c9a26abf00"
      },
      "outputs": [
        {
          "output_type": "stream",
          "name": "stdout",
          "text": [
            "Group 1: ['ad1187', 'ab1820', 'vm0597', 'rm1090', 'sm2343', 'ns0756']\n",
            "Group 2: ['sp2075', 'sm2364', 'gm0558', 'sd0926', 'as2819']\n",
            "Group 3: ['am2346', 'mb1296', 'lp0502', 'ag1609']\n",
            "Group 4: ['bk0413', 'vr0331', 'sb1826', 'am2807']\n",
            "Group 5: ['tc0469', 'sr1508', 'sd1268', 'ss2981', 'ac1770']\n",
            "Group 6: ['dv0310', 'yr0180', 'sb1883', 'mc1453', 'lb0582']\n",
            "Group 7: ['htn0086', 'gk0257', 'mt0825', 'dt0463', 'vkk0022', 'gp0306']\n",
            "Group 8: ['su0137', 'sc1622', 'pm0658', 'sm2747', 'sg1638', 'mg1299']\n"
          ]
        }
      ],
      "source": [
        "import random\n",
        "\n",
        "def divide_Students_IntoGroups(student_list, min_group_size, max_group_size):\n",
        "    random.shuffle(student_list)\n",
        "    groups = []\n",
        "    i = 0\n",
        "\n",
        "    while i < len(student_list):\n",
        "        group_size = random.randint(min_group_size, max_group_size)\n",
        "        group = student_list[i:i+group_size]\n",
        "        groups.append(group)\n",
        "        i += group_size\n",
        "\n",
        "    return groups\n",
        "\n",
        "try:\n",
        "    student_list_fall_2023 = ['sb1826', 'lb0582', 'ab1820', 'sb1883', 'mb1296', 'sc1622', 'tc0469', 'ac1770',\n",
        "                              'mc1453', 'ad1187', 'sd0926', 'sd1268', 'ag1609', 'sg1638', 'mg1299', 'vkk0022',\n",
        "                              'bk0413', 'gk0257', 'am2807', 'gm0558', 'pm0658', 'am2346', 'rm1090', 'sm2364',\n",
        "                              'sm2747', 'sm2343', 'vm0597', 'htn0086', 'sp2075', 'gp0306', 'lp0502', 'sr1508',\n",
        "                              'vr0331', 'yr0180', 'as2819', 'ss2981', 'ns0756', 'mt0825', 'dt0463', 'su0137', 'dv0310']\n",
        "\n",
        "    min_group_size = 4\n",
        "    max_group_size = 6\n",
        "\n",
        "    student_groups = divide_Students_IntoGroups(student_list_fall_2023, min_group_size, max_group_size)\n",
        "\n",
        "    for group_number, group in enumerate(student_groups, start=1):\n",
        "        print(f\"Group {group_number}: {group}\")\n",
        "except Exception as e:\n",
        "    print(\"An error occurred:\", e)"
      ]
    },
    {
      "cell_type": "markdown",
      "metadata": {
        "id": "fmZ9vX20Qs3d"
      },
      "source": [
        "(16) Write a Python program to find the duplicate elements in a given array of integers. Return -1 If there are no such elements."
      ]
    },
    {
      "cell_type": "code",
      "execution_count": 22,
      "metadata": {
        "id": "W8Jw6sWMQs3d",
        "colab": {
          "base_uri": "https://localhost:8080/"
        },
        "outputId": "82c39299-124a-485e-db77-b37ea6bf3a15"
      },
      "outputs": [
        {
          "output_type": "stream",
          "name": "stdout",
          "text": [
            "[1, 2]\n"
          ]
        }
      ],
      "source": [
        "def find_duplicates(array):\n",
        "  seen = set()\n",
        "  duplicates = []\n",
        "  for num in array:\n",
        "    if num in seen:\n",
        "      duplicates.append(num)\n",
        "    else:\n",
        "      seen.add(num)\n",
        "\n",
        "  if not duplicates:\n",
        "    return -1\n",
        "  else:\n",
        "    return duplicates\n",
        "\n",
        "array = [1, 1, 2, 2, 3, 4, 5]\n",
        "duplicates = find_duplicates(array)\n",
        "print(duplicates)\n"
      ]
    },
    {
      "cell_type": "markdown",
      "metadata": {
        "id": "hvq4APMhQs3d"
      },
      "source": [
        "(17) Write a Python program to select all the Sundays of a specified year."
      ]
    },
    {
      "cell_type": "code",
      "execution_count": 27,
      "metadata": {
        "id": "ZnoxhSglQs3d",
        "colab": {
          "base_uri": "https://localhost:8080/"
        },
        "outputId": "bf921388-b38b-4c65-80fc-ce316b8e356b"
      },
      "outputs": [
        {
          "output_type": "stream",
          "name": "stdout",
          "text": [
            "Enter a year: 2022\n",
            "Sundays in 2022:\n",
            "2022-01-02\n",
            "2022-01-09\n",
            "2022-01-16\n",
            "2022-01-23\n",
            "2022-01-30\n",
            "2022-02-06\n",
            "2022-02-13\n",
            "2022-02-20\n",
            "2022-02-27\n",
            "2022-03-06\n",
            "2022-03-13\n",
            "2022-03-20\n",
            "2022-03-27\n",
            "2022-04-03\n",
            "2022-04-10\n",
            "2022-04-17\n",
            "2022-04-24\n",
            "2022-05-01\n",
            "2022-05-08\n",
            "2022-05-15\n",
            "2022-05-22\n",
            "2022-05-29\n",
            "2022-06-05\n",
            "2022-06-12\n",
            "2022-06-19\n",
            "2022-06-26\n",
            "2022-07-03\n",
            "2022-07-10\n",
            "2022-07-17\n",
            "2022-07-24\n",
            "2022-07-31\n",
            "2022-08-07\n",
            "2022-08-14\n",
            "2022-08-21\n",
            "2022-08-28\n",
            "2022-09-04\n",
            "2022-09-11\n",
            "2022-09-18\n",
            "2022-09-25\n",
            "2022-10-02\n",
            "2022-10-09\n",
            "2022-10-16\n",
            "2022-10-23\n",
            "2022-10-30\n",
            "2022-11-06\n",
            "2022-11-13\n",
            "2022-11-20\n",
            "2022-11-27\n",
            "2022-12-04\n",
            "2022-12-11\n",
            "2022-12-18\n",
            "2022-12-25\n"
          ]
        }
      ],
      "source": [
        "import datetime\n",
        "\n",
        "def getsundays(year):\n",
        "    sundays = []\n",
        "    for month in range(1, 13):\n",
        "        for day in range(1, 32):\n",
        "            try:\n",
        "                date = datetime.date(year, month, day)\n",
        "                if date.weekday() == 6:\n",
        "                    sundays.append(date)\n",
        "            except ValueError:\n",
        "                pass\n",
        "    return sundays\n",
        "\n",
        "specified_year = int(input(\"Enter a year: \"))\n",
        "sundays = getsundays(specified_year)\n",
        "\n",
        "print(f\"Sundays in {specified_year}:\")\n",
        "for sunday in sundays:\n",
        "    print(sunday)\n"
      ]
    },
    {
      "cell_type": "markdown",
      "metadata": {
        "id": "55FWoSJPVVM6"
      },
      "source": [
        "(18) Build a program that calculates the factorial of a given positive integer. The factorial of a non-negative integer n is the product of all positive integers less than or equal to n."
      ]
    },
    {
      "cell_type": "code",
      "execution_count": 24,
      "metadata": {
        "id": "hwtr1wZmVX5A",
        "colab": {
          "base_uri": "https://localhost:8080/"
        },
        "outputId": "a91f02bf-8ea9-4da9-9383-0105a7304d1c"
      },
      "outputs": [
        {
          "output_type": "stream",
          "name": "stdout",
          "text": [
            "Enter a positive integer: 10\n",
            "The factorial of 10 is 3628800\n"
          ]
        }
      ],
      "source": [
        "def factorial(n):\n",
        "  if n == 0:\n",
        "    return 1\n",
        "  else:\n",
        "    return n * factorial(n - 1)\n",
        "\n",
        "number = int(input(\"Enter a positive integer: \"))\n",
        "factorial = factorial(number)\n",
        "print(\"The factorial of\", number, \"is\", factorial)"
      ]
    },
    {
      "cell_type": "markdown",
      "metadata": {
        "id": "Q9ecagcaVazW"
      },
      "source": [
        "(19) Write a program that takes a positive integer n as input and prints the count of even numbers from 1 to n. Use a loop to iterate through the numbers and utilize the break statement to optimize the loop."
      ]
    },
    {
      "cell_type": "code",
      "execution_count": 31,
      "metadata": {
        "id": "gycgckoAVZjR",
        "colab": {
          "base_uri": "https://localhost:8080/"
        },
        "outputId": "cfe0f866-1229-43a7-be86-7eecfbcd4996"
      },
      "outputs": [
        {
          "output_type": "stream",
          "name": "stdout",
          "text": [
            "Enter a positive number: 250\n",
            "The number of even numbers from 1 to 250 is 125\n"
          ]
        }
      ],
      "source": [
        "def count_evennumbers(n):\n",
        "  count = 0\n",
        "  i = 1\n",
        "  while i <= n:\n",
        "    if i % 2 == 0:\n",
        "      count += 1\n",
        "    i += 1\n",
        "  return count\n",
        "\n",
        "number = int(input(\"Enter a positive number: \"))\n",
        "even_count = count_evennumbers(number)\n",
        "print(\"The number of even numbers from 1 to\", number, \"is\", even_count)\n"
      ]
    },
    {
      "cell_type": "markdown",
      "metadata": {
        "id": "cboAr5pEWUf5"
      },
      "source": [
        "(20) Write a Python function called count_vowels that takes a string as input and returns the count of vowels (both lowercase and uppercase) present in the string. Consider the vowels to be 'a', 'e', 'i', 'o', and 'u'. Ignore spaces and other non-alphabetic characters."
      ]
    },
    {
      "cell_type": "code",
      "execution_count": 30,
      "metadata": {
        "id": "phs9gciMWWAW",
        "colab": {
          "base_uri": "https://localhost:8080/"
        },
        "outputId": "be4b7d52-65de-4a93-eb45-d1aae244ae9e"
      },
      "outputs": [
        {
          "output_type": "stream",
          "name": "stdout",
          "text": [
            "Enter a string: College Of Information\n",
            "The number of vowels in the string is 9\n"
          ]
        }
      ],
      "source": [
        "def count_vowels(string):\n",
        "  vowels = \"aeiouAEIOU\"\n",
        "  count = 0\n",
        "  for char in string:\n",
        "    if char in vowels:\n",
        "      count += 1\n",
        "  return count\n",
        "\n",
        "string = input(\"Enter a string: \")\n",
        "vowelcount = count_vowels(string)\n",
        "print(\"The number of vowels in the string is\", vowelcount)\n"
      ]
    },
    {
      "cell_type": "code",
      "execution_count": null,
      "metadata": {
        "id": "OVQ547PthQex"
      },
      "outputs": [],
      "source": []
    }
  ],
  "metadata": {
    "colab": {
      "provenance": [],
      "include_colab_link": true
    },
    "kernelspec": {
      "display_name": "Python 3 (ipykernel)",
      "language": "python",
      "name": "python3"
    },
    "language_info": {
      "codemirror_mode": {
        "name": "ipython",
        "version": 3
      },
      "file_extension": ".py",
      "mimetype": "text/x-python",
      "name": "python",
      "nbconvert_exporter": "python",
      "pygments_lexer": "ipython3",
      "version": "3.11.4"
    }
  },
  "nbformat": 4,
  "nbformat_minor": 0
}