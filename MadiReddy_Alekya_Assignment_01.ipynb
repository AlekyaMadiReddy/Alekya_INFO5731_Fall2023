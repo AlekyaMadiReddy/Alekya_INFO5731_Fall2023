{
  "cells": [
    {
      "cell_type": "markdown",
      "metadata": {
        "id": "view-in-github",
        "colab_type": "text"
      },
      "source": [
        "<a href=\"https://colab.research.google.com/github/AlekyaMadiReddy/Alekya_INFO5731_Fall2023/blob/main/MadiReddy_Alekya_Assignment_01.ipynb\" target=\"_parent\"><img src=\"https://colab.research.google.com/assets/colab-badge.svg\" alt=\"Open In Colab\"/></a>"
      ]
    },
    {
      "cell_type": "code",
      "source": [
        "from google.colab import drive\n",
        "drive.mount('/content/drive')"
      ],
      "metadata": {
        "colab": {
          "base_uri": "https://localhost:8080/"
        },
        "id": "LJaj66Jjla7j",
        "outputId": "9d05805b-2f82-4613-b98e-4ee6dd63614a"
      },
      "execution_count": 1,
      "outputs": [
        {
          "output_type": "stream",
          "name": "stdout",
          "text": [
            "Drive already mounted at /content/drive; to attempt to forcibly remount, call drive.mount(\"/content/drive\", force_remount=True).\n"
          ]
        }
      ]
    },
    {
      "cell_type": "markdown",
      "metadata": {
        "id": "Ryk8D1Q4Wsrp"
      },
      "source": [
        "# **INFO5731 Assignment One**"
      ]
    },
    {
      "cell_type": "markdown",
      "metadata": {
        "id": "90_NR8c5XGWc"
      },
      "source": [
        "# Question 1\n",
        "\n",
        "(20 points). Write a Python program to generate 12 random numbers between 1 and 100. Sort the list of numbers in ascending order and print it out. Sort the list of numbers in descending order and print it out. Calculate the average for the group and print it out."
      ]
    },
    {
      "cell_type": "code",
      "execution_count": 2,
      "metadata": {
        "id": "5QX6bJjGWXY9",
        "colab": {
          "base_uri": "https://localhost:8080/"
        },
        "outputId": "4e7656b5-313c-4803-d431-b94a0f88a474"
      },
      "outputs": [
        {
          "output_type": "stream",
          "name": "stdout",
          "text": [
            "Random Numbers: [12, 9, 97, 36, 10, 34, 79, 75, 87, 75, 52, 23]\n",
            "Ascending Sorted Numbers: [9, 10, 12, 23, 34, 36, 52, 75, 75, 79, 87, 97]\n",
            "Descending Sorted Numbers: [97, 87, 79, 75, 75, 52, 36, 34, 23, 12, 10, 9]\n",
            "Average: 49.083333333333336\n"
          ]
        }
      ],
      "source": [
        "import random\n",
        "\n",
        "# Generate 12 random numbers between 1 and 100\n",
        "random_numbers = [random.randint(1, 100) for _ in range(12)]\n",
        "\n",
        "# Sort the list in ascending order\n",
        "ascending_sorted_numbers = sorted(random_numbers)\n",
        "\n",
        "# Sort the list in descending order\n",
        "descending_sorted_numbers = sorted(random_numbers, reverse=True)\n",
        "\n",
        "# Calculate the average\n",
        "average = sum(random_numbers) / len(random_numbers)\n",
        "\n",
        "# Print the results\n",
        "print(\"Random Numbers:\", random_numbers)\n",
        "print(\"Ascending Sorted Numbers:\", ascending_sorted_numbers)\n",
        "print(\"Descending Sorted Numbers:\", descending_sorted_numbers)\n",
        "print(\"Average:\", average)\n",
        "\n"
      ]
    },
    {
      "cell_type": "markdown",
      "metadata": {
        "id": "1F_PZdH9Sh49"
      },
      "source": [
        "# Question 2\n",
        "(25 points).\n",
        "\n",
        "Write a program that will do the following string formatting tasks:\n",
        "\n",
        "(1) Ask the user to enter two sentences.\n",
        "\n",
        "(2) Make each sentence into a list. Each element in the list should correspond to a word in the sentence. For example, if the sentence is \"Alas! Am I alive? This is my first python program\", the program should print out ['Alas, '!', 'Am', 'I', 'alive, '?', 'This', 'is', 'my', 'first', 'python', 'program'].\n",
        "\n",
        "(3) Compare the two sentences. Print out a list of words that occur in both sentences.\n",
        "\n",
        "(4) Remove any punctuation from the sentence and print it back out. It should remove at least the following characters, but it can remove more: period(“.”), comma (“,”), semicolon (“;”), and colon (“:”)\n",
        "\n",
        "(5) Count the number of vowels in the sentences. Print out each vowel and the number of times it appears in the sentences, such as: a:2, e:1, i:0, etc"
      ]
    },
    {
      "cell_type": "code",
      "execution_count": 9,
      "metadata": {
        "id": "Y0oOSlsOS0cq",
        "colab": {
          "base_uri": "https://localhost:8080/"
        },
        "outputId": "67dc8073-7bed-4791-b862-f67338fe5226"
      },
      "outputs": [
        {
          "output_type": "stream",
          "name": "stdout",
          "text": [
            "Enter the first sentence: I am Alekya Madi Reddy\n",
            "Enter the second sentence: I am learning python\n",
            "Words in Sentence 1: ['I', 'am', 'Alekya', 'Madi', 'Reddy']\n",
            "Words in Sentence 2: ['I', 'am', 'learning', 'python']\n",
            "Common Words: ['am', 'I']\n",
            "Sentence 1 without punctuation: I am Alekya Madi Reddy\n",
            "Sentence 2 without punctuation: I am learning python\n",
            "Vowel Counts in Sentence 1: {'a': 4, 'e': 2, 'i': 2, 'o': 0, 'u': 0, 'A': 0, 'E': 0, 'I': 0, 'O': 0, 'U': 0}\n",
            "Vowel Counts in Sentence 2: {'a': 2, 'e': 1, 'i': 2, 'o': 1, 'u': 0, 'A': 0, 'E': 0, 'I': 0, 'O': 0, 'U': 0}\n"
          ]
        }
      ],
      "source": [
        "import string\n",
        "\n",
        "# Helper function to split a sentence into words\n",
        "def split_sentence(sentence):\n",
        "    words = sentence.split()\n",
        "    # Handle punctuation within words\n",
        "    for i in range(len(words)):\n",
        "        word = words[i]\n",
        "        clean_word = ''.join([c for c in word if c not in string.punctuation])\n",
        "        words[i] = clean_word\n",
        "    return words\n",
        "\n",
        "# Helper function to count vowels in a sentence\n",
        "def count_vowels(sentence):\n",
        "    vowels = \"aeiouAEIOU\"\n",
        "    vowel_count = {vowel: 0 for vowel in vowels}\n",
        "    for char in sentence:\n",
        "        if char in vowels:\n",
        "            vowel_count[char.lower()] += 1\n",
        "    return vowel_count\n",
        "\n",
        "# Step 1: Ask the user to enter two sentences\n",
        "sentence1 = input(\"Enter the first sentence: \")\n",
        "sentence2 = input(\"Enter the second sentence: \")\n",
        "\n",
        "# Step 2: Split the sentences into lists of words\n",
        "words1 = split_sentence(sentence1)\n",
        "words2 = split_sentence(sentence2)\n",
        "\n",
        "# Step 3: Compare the two sentences and find common words\n",
        "common_words = list(set(words1) & set(words2))\n",
        "\n",
        "# Step 4: Remove punctuation from the sentences\n",
        "sentence1_cleaned = ' '.join(words1)\n",
        "sentence2_cleaned = ' '.join(words2)\n",
        "\n",
        "# Step 5: Count vowels in the sentences\n",
        "vowel_count1 = count_vowels(sentence1_cleaned)\n",
        "vowel_count2 = count_vowels(sentence2_cleaned)\n",
        "\n",
        "# Print the results\n",
        "print(\"Words in Sentence 1:\", words1)\n",
        "print(\"Words in Sentence 2:\", words2)\n",
        "print(\"Common Words:\", common_words)\n",
        "print(\"Sentence 1 without punctuation:\", sentence1_cleaned)\n",
        "print(\"Sentence 2 without punctuation:\", sentence2_cleaned)\n",
        "print(\"Vowel Counts in Sentence 1:\", vowel_count1)\n",
        "print(\"Vowel Counts in Sentence 2:\", vowel_count2)\n",
        "\n",
        "\n"
      ]
    },
    {
      "cell_type": "markdown",
      "metadata": {
        "id": "CmFoI4jDS9nx"
      },
      "source": [
        "# Question 3\n",
        "\n",
        "(15 points). The formula that describes the volume V of a sphere with radius r is the following:\n",
        "\n",
        "$ V=\\frac{4}{3}\\ast\\ \\pi\\ast\\ r^3 $\n",
        "\n",
        "Write a program to calculate the value of V when r is in the range of 1–10. Output the result in the following format:\n",
        "\n",
        "\tr\tV\n",
        "\t1\t…\n",
        "\t2\t…\n",
        "\t3\t…\n"
      ]
    },
    {
      "cell_type": "code",
      "execution_count": 4,
      "metadata": {
        "id": "pEyqeioAT95b",
        "colab": {
          "base_uri": "https://localhost:8080/"
        },
        "outputId": "f176538f-3237-4fd9-c8c8-6e3ab9d3d759"
      },
      "outputs": [
        {
          "output_type": "stream",
          "name": "stdout",
          "text": [
            "Radius = 1, Volume = 4.19\n",
            "Radius = 2, Volume = 33.51\n",
            "Radius = 3, Volume = 113.10\n",
            "Radius = 4, Volume = 268.08\n",
            "Radius = 5, Volume = 523.60\n",
            "Radius = 6, Volume = 904.78\n",
            "Radius = 7, Volume = 1436.76\n",
            "Radius = 8, Volume = 2144.66\n",
            "Radius = 9, Volume = 3053.63\n",
            "Radius = 10, Volume = 4188.79\n"
          ]
        }
      ],
      "source": [
        "import math\n",
        "\n",
        "# Function to calculate the volume of a sphere given its radius\n",
        "def calculate_volume(radius):\n",
        "    return (4/3) * math.pi * (radius**3)\n",
        "\n",
        "# Loop through radii from 1 to 10 and calculate volumes\n",
        "for radius in range(1, 11):\n",
        "    volume = calculate_volume(radius)\n",
        "    print(f\"Radius = {radius}, Volume = {volume:.2f}\")\n",
        "\n",
        "\n"
      ]
    },
    {
      "cell_type": "markdown",
      "metadata": {
        "id": "z3tBE7E-Xn5X"
      },
      "source": [
        "# Question 4\n",
        "\n",
        "(40 points). In the field of Data Science, data is often formatted as a comma-delimited (CSV) file, where each line in a file corresponds to a field's value. Refer to Chapter 9 (p. 106) for more information on comma-delimited files. To answer this question, you will need to download the file [Assignment1_denton_housing.csv](https://raw.githubusercontent.com/unt-iialab/info5731-spring2022/main/assignments/Assignment1_denton_housing.csv) included with this assignment. The file [Assignment1_denton_housing.csv](https://raw.githubusercontent.com/unt-iialab/info5731-spring2022/main/assignments/Assignment1_denton_housing.csv) contains statistics about housing in the city of Denton from 2008 to 2014. Write a program to implement the following questions.\n",
        "\n",
        "(1) (10 pts) Calculate the difference in the number of Occupied Housing Units from year to year and print it. The difference must be calculated for the consecutive years such as 2008-2009, 2009-2010 etc. Finally, print the values in the ascending order.\n",
        "\n",
        "(2) (10 pts) For all the years, calculate the percentage of housing units which are vacant an occupied. Print the results in the following format:\n",
        "\n",
        "Year Vacant Housing Units Occupied Housing Units\n",
        "\n",
        "    2008  30%   70%                          \n",
        "\t2009 ----- -----\n",
        "\t2010 ----- -----\n",
        "    2011 ----- -----\n",
        "\t2012 ----- -----\n",
        "    2013 ----- -----\n",
        "\t2014 ----- -----\n",
        "  \n",
        "  \n",
        "\n",
        "(3) (10 pts) Calculate and print the valued and years in which the highest number of housing units were vacant and occupied. Print the results in the following format:  \n",
        "\n",
        "                              Year\tValue\n",
        "\tVacant Housing Units\t  -----   -----\n",
        "\tOccupied Housing Units\t-----   -----\n",
        "\n",
        "(4) (10 pts) Calculate the harmonic mean of the total housing units and print it out. You can find the information about harmonic mean here: https://ncalculators.com/statistics/harmonic-mean-calculator.htm"
      ]
    },
    {
      "cell_type": "code",
      "execution_count": 5,
      "metadata": {
        "id": "lqGYuHBhcsRH",
        "colab": {
          "base_uri": "https://localhost:8080/"
        },
        "outputId": "297b1c85-ab28-46e0-c733-86e42063305f"
      },
      "outputs": [
        {
          "output_type": "execute_result",
          "data": {
            "text/plain": [
              "17    -795.0\n",
              "11    -303.0\n",
              "8     1404.0\n",
              "5     1565.0\n",
              "2     2622.0\n",
              "14    5091.0\n",
              "20       NaN\n",
              "Name: value, dtype: float64"
            ]
          },
          "metadata": {},
          "execution_count": 5
        }
      ],
      "source": [
        "# Import the Pandas library and alias it as 'pd'\n",
        "import pandas as pd\n",
        "# Read the CSV file into a Pandas DataFrame and store it in the 'denton_housing' variable\n",
        "denton_housing = pd.read_csv('/content/drive/MyDrive/Assignment01/Assignment1_denton_housing.csv')\n",
        "# Select rows in the 'denton_housing' DataFrame where the 'title_field' column is 'Occupied Housing Units',\n",
        "# and sort the resulting DataFrame by the 'year' column in ascending order\n",
        "OHU = denton_housing[denton_housing['title_field'] == 'Occupied Housing Units'].sort_values(by=['year'])\n",
        "# Calculate the difference between consecutive values in the 'OHU' DataFrame, and then sort those differences in ascending order\n",
        "OHU.value.diff().sort_values()"
      ]
    },
    {
      "cell_type": "code",
      "source": [
        "#2\n",
        "Vacant_houses = denton_housing[denton_housing['title_field'] == 'Vacant Housing Units'].sort_values(by=['year'])['value']\n",
        "Occupied_houses= denton_housing[denton_housing['title_field'] == 'Occupied Housing Units'].sort_values(by=['year'])['value']\n",
        "\n",
        "Total = denton_housing[denton_housing['title_field'] == 'Total Housing Units'].sort_values(by=['year'])['value']\n",
        "\n",
        "year = denton_housing[denton_housing['title_field'] == 'Total Housing Units'].sort_values(by=['year'])['year']\n",
        "Vacant = [str((vacant/total)*100)+' %' for vacant,total in zip(Vacant_houses,Total)]\n",
        "occupied = [str((occupied/total)*100)+' %' for occupied, total in zip(Occupied_houses, Total)]\n",
        "final_list = pd.DataFrame(list(zip(year,Vacant, occupied)), columns =['Year','Vacant Housing Units', 'Occupied Housing Units'])\n",
        "final_list"
      ],
      "metadata": {
        "colab": {
          "base_uri": "https://localhost:8080/",
          "height": 269
        },
        "id": "8mc7F1qzX-uq",
        "outputId": "6ccfbe47-2be9-4d5a-e6d2-33a254e7761d"
      },
      "execution_count": 6,
      "outputs": [
        {
          "output_type": "execute_result",
          "data": {
            "text/plain": [
              "   Year Vacant Housing Units Occupied Housing Units\n",
              "0  2008  10.88265281351653 %    89.11734718648347 %\n",
              "1  2009   9.07111572444872 %    90.92888427555128 %\n",
              "2  2010  8.142556337081672 %    91.85744366291833 %\n",
              "3  2011  9.379522229890688 %     90.6204777701093 %\n",
              "4  2012  6.677600230491346 %    93.32239976950866 %\n",
              "5  2013  8.801787504176412 %    91.19821249582358 %\n",
              "6  2014  5.730110570363885 %    94.26988942963611 %"
            ],
            "text/html": [
              "\n",
              "  <div id=\"df-198497cd-ea16-451c-afde-56c3e060853c\" class=\"colab-df-container\">\n",
              "    <div>\n",
              "<style scoped>\n",
              "    .dataframe tbody tr th:only-of-type {\n",
              "        vertical-align: middle;\n",
              "    }\n",
              "\n",
              "    .dataframe tbody tr th {\n",
              "        vertical-align: top;\n",
              "    }\n",
              "\n",
              "    .dataframe thead th {\n",
              "        text-align: right;\n",
              "    }\n",
              "</style>\n",
              "<table border=\"1\" class=\"dataframe\">\n",
              "  <thead>\n",
              "    <tr style=\"text-align: right;\">\n",
              "      <th></th>\n",
              "      <th>Year</th>\n",
              "      <th>Vacant Housing Units</th>\n",
              "      <th>Occupied Housing Units</th>\n",
              "    </tr>\n",
              "  </thead>\n",
              "  <tbody>\n",
              "    <tr>\n",
              "      <th>0</th>\n",
              "      <td>2008</td>\n",
              "      <td>10.88265281351653 %</td>\n",
              "      <td>89.11734718648347 %</td>\n",
              "    </tr>\n",
              "    <tr>\n",
              "      <th>1</th>\n",
              "      <td>2009</td>\n",
              "      <td>9.07111572444872 %</td>\n",
              "      <td>90.92888427555128 %</td>\n",
              "    </tr>\n",
              "    <tr>\n",
              "      <th>2</th>\n",
              "      <td>2010</td>\n",
              "      <td>8.142556337081672 %</td>\n",
              "      <td>91.85744366291833 %</td>\n",
              "    </tr>\n",
              "    <tr>\n",
              "      <th>3</th>\n",
              "      <td>2011</td>\n",
              "      <td>9.379522229890688 %</td>\n",
              "      <td>90.6204777701093 %</td>\n",
              "    </tr>\n",
              "    <tr>\n",
              "      <th>4</th>\n",
              "      <td>2012</td>\n",
              "      <td>6.677600230491346 %</td>\n",
              "      <td>93.32239976950866 %</td>\n",
              "    </tr>\n",
              "    <tr>\n",
              "      <th>5</th>\n",
              "      <td>2013</td>\n",
              "      <td>8.801787504176412 %</td>\n",
              "      <td>91.19821249582358 %</td>\n",
              "    </tr>\n",
              "    <tr>\n",
              "      <th>6</th>\n",
              "      <td>2014</td>\n",
              "      <td>5.730110570363885 %</td>\n",
              "      <td>94.26988942963611 %</td>\n",
              "    </tr>\n",
              "  </tbody>\n",
              "</table>\n",
              "</div>\n",
              "    <div class=\"colab-df-buttons\">\n",
              "\n",
              "  <div class=\"colab-df-container\">\n",
              "    <button class=\"colab-df-convert\" onclick=\"convertToInteractive('df-198497cd-ea16-451c-afde-56c3e060853c')\"\n",
              "            title=\"Convert this dataframe to an interactive table.\"\n",
              "            style=\"display:none;\">\n",
              "\n",
              "  <svg xmlns=\"http://www.w3.org/2000/svg\" height=\"24px\" viewBox=\"0 -960 960 960\">\n",
              "    <path d=\"M120-120v-720h720v720H120Zm60-500h600v-160H180v160Zm220 220h160v-160H400v160Zm0 220h160v-160H400v160ZM180-400h160v-160H180v160Zm440 0h160v-160H620v160ZM180-180h160v-160H180v160Zm440 0h160v-160H620v160Z\"/>\n",
              "  </svg>\n",
              "    </button>\n",
              "\n",
              "  <style>\n",
              "    .colab-df-container {\n",
              "      display:flex;\n",
              "      gap: 12px;\n",
              "    }\n",
              "\n",
              "    .colab-df-convert {\n",
              "      background-color: #E8F0FE;\n",
              "      border: none;\n",
              "      border-radius: 50%;\n",
              "      cursor: pointer;\n",
              "      display: none;\n",
              "      fill: #1967D2;\n",
              "      height: 32px;\n",
              "      padding: 0 0 0 0;\n",
              "      width: 32px;\n",
              "    }\n",
              "\n",
              "    .colab-df-convert:hover {\n",
              "      background-color: #E2EBFA;\n",
              "      box-shadow: 0px 1px 2px rgba(60, 64, 67, 0.3), 0px 1px 3px 1px rgba(60, 64, 67, 0.15);\n",
              "      fill: #174EA6;\n",
              "    }\n",
              "\n",
              "    .colab-df-buttons div {\n",
              "      margin-bottom: 4px;\n",
              "    }\n",
              "\n",
              "    [theme=dark] .colab-df-convert {\n",
              "      background-color: #3B4455;\n",
              "      fill: #D2E3FC;\n",
              "    }\n",
              "\n",
              "    [theme=dark] .colab-df-convert:hover {\n",
              "      background-color: #434B5C;\n",
              "      box-shadow: 0px 1px 3px 1px rgba(0, 0, 0, 0.15);\n",
              "      filter: drop-shadow(0px 1px 2px rgba(0, 0, 0, 0.3));\n",
              "      fill: #FFFFFF;\n",
              "    }\n",
              "  </style>\n",
              "\n",
              "    <script>\n",
              "      const buttonEl =\n",
              "        document.querySelector('#df-198497cd-ea16-451c-afde-56c3e060853c button.colab-df-convert');\n",
              "      buttonEl.style.display =\n",
              "        google.colab.kernel.accessAllowed ? 'block' : 'none';\n",
              "\n",
              "      async function convertToInteractive(key) {\n",
              "        const element = document.querySelector('#df-198497cd-ea16-451c-afde-56c3e060853c');\n",
              "        const dataTable =\n",
              "          await google.colab.kernel.invokeFunction('convertToInteractive',\n",
              "                                                    [key], {});\n",
              "        if (!dataTable) return;\n",
              "\n",
              "        const docLinkHtml = 'Like what you see? Visit the ' +\n",
              "          '<a target=\"_blank\" href=https://colab.research.google.com/notebooks/data_table.ipynb>data table notebook</a>'\n",
              "          + ' to learn more about interactive tables.';\n",
              "        element.innerHTML = '';\n",
              "        dataTable['output_type'] = 'display_data';\n",
              "        await google.colab.output.renderOutput(dataTable, element);\n",
              "        const docLink = document.createElement('div');\n",
              "        docLink.innerHTML = docLinkHtml;\n",
              "        element.appendChild(docLink);\n",
              "      }\n",
              "    </script>\n",
              "  </div>\n",
              "\n",
              "\n",
              "<div id=\"df-cb7c3abb-c306-4e96-b5fa-192c7a856877\">\n",
              "  <button class=\"colab-df-quickchart\" onclick=\"quickchart('df-cb7c3abb-c306-4e96-b5fa-192c7a856877')\"\n",
              "            title=\"Suggest charts.\"\n",
              "            style=\"display:none;\">\n",
              "\n",
              "<svg xmlns=\"http://www.w3.org/2000/svg\" height=\"24px\"viewBox=\"0 0 24 24\"\n",
              "     width=\"24px\">\n",
              "    <g>\n",
              "        <path d=\"M19 3H5c-1.1 0-2 .9-2 2v14c0 1.1.9 2 2 2h14c1.1 0 2-.9 2-2V5c0-1.1-.9-2-2-2zM9 17H7v-7h2v7zm4 0h-2V7h2v10zm4 0h-2v-4h2v4z\"/>\n",
              "    </g>\n",
              "</svg>\n",
              "  </button>\n",
              "\n",
              "<style>\n",
              "  .colab-df-quickchart {\n",
              "      --bg-color: #E8F0FE;\n",
              "      --fill-color: #1967D2;\n",
              "      --hover-bg-color: #E2EBFA;\n",
              "      --hover-fill-color: #174EA6;\n",
              "      --disabled-fill-color: #AAA;\n",
              "      --disabled-bg-color: #DDD;\n",
              "  }\n",
              "\n",
              "  [theme=dark] .colab-df-quickchart {\n",
              "      --bg-color: #3B4455;\n",
              "      --fill-color: #D2E3FC;\n",
              "      --hover-bg-color: #434B5C;\n",
              "      --hover-fill-color: #FFFFFF;\n",
              "      --disabled-bg-color: #3B4455;\n",
              "      --disabled-fill-color: #666;\n",
              "  }\n",
              "\n",
              "  .colab-df-quickchart {\n",
              "    background-color: var(--bg-color);\n",
              "    border: none;\n",
              "    border-radius: 50%;\n",
              "    cursor: pointer;\n",
              "    display: none;\n",
              "    fill: var(--fill-color);\n",
              "    height: 32px;\n",
              "    padding: 0;\n",
              "    width: 32px;\n",
              "  }\n",
              "\n",
              "  .colab-df-quickchart:hover {\n",
              "    background-color: var(--hover-bg-color);\n",
              "    box-shadow: 0 1px 2px rgba(60, 64, 67, 0.3), 0 1px 3px 1px rgba(60, 64, 67, 0.15);\n",
              "    fill: var(--button-hover-fill-color);\n",
              "  }\n",
              "\n",
              "  .colab-df-quickchart-complete:disabled,\n",
              "  .colab-df-quickchart-complete:disabled:hover {\n",
              "    background-color: var(--disabled-bg-color);\n",
              "    fill: var(--disabled-fill-color);\n",
              "    box-shadow: none;\n",
              "  }\n",
              "\n",
              "  .colab-df-spinner {\n",
              "    border: 2px solid var(--fill-color);\n",
              "    border-color: transparent;\n",
              "    border-bottom-color: var(--fill-color);\n",
              "    animation:\n",
              "      spin 1s steps(1) infinite;\n",
              "  }\n",
              "\n",
              "  @keyframes spin {\n",
              "    0% {\n",
              "      border-color: transparent;\n",
              "      border-bottom-color: var(--fill-color);\n",
              "      border-left-color: var(--fill-color);\n",
              "    }\n",
              "    20% {\n",
              "      border-color: transparent;\n",
              "      border-left-color: var(--fill-color);\n",
              "      border-top-color: var(--fill-color);\n",
              "    }\n",
              "    30% {\n",
              "      border-color: transparent;\n",
              "      border-left-color: var(--fill-color);\n",
              "      border-top-color: var(--fill-color);\n",
              "      border-right-color: var(--fill-color);\n",
              "    }\n",
              "    40% {\n",
              "      border-color: transparent;\n",
              "      border-right-color: var(--fill-color);\n",
              "      border-top-color: var(--fill-color);\n",
              "    }\n",
              "    60% {\n",
              "      border-color: transparent;\n",
              "      border-right-color: var(--fill-color);\n",
              "    }\n",
              "    80% {\n",
              "      border-color: transparent;\n",
              "      border-right-color: var(--fill-color);\n",
              "      border-bottom-color: var(--fill-color);\n",
              "    }\n",
              "    90% {\n",
              "      border-color: transparent;\n",
              "      border-bottom-color: var(--fill-color);\n",
              "    }\n",
              "  }\n",
              "</style>\n",
              "\n",
              "  <script>\n",
              "    async function quickchart(key) {\n",
              "      const quickchartButtonEl =\n",
              "        document.querySelector('#' + key + ' button');\n",
              "      quickchartButtonEl.disabled = true;  // To prevent multiple clicks.\n",
              "      quickchartButtonEl.classList.add('colab-df-spinner');\n",
              "      try {\n",
              "        const charts = await google.colab.kernel.invokeFunction(\n",
              "            'suggestCharts', [key], {});\n",
              "      } catch (error) {\n",
              "        console.error('Error during call to suggestCharts:', error);\n",
              "      }\n",
              "      quickchartButtonEl.classList.remove('colab-df-spinner');\n",
              "      quickchartButtonEl.classList.add('colab-df-quickchart-complete');\n",
              "    }\n",
              "    (() => {\n",
              "      let quickchartButtonEl =\n",
              "        document.querySelector('#df-cb7c3abb-c306-4e96-b5fa-192c7a856877 button');\n",
              "      quickchartButtonEl.style.display =\n",
              "        google.colab.kernel.accessAllowed ? 'block' : 'none';\n",
              "    })();\n",
              "  </script>\n",
              "</div>\n",
              "    </div>\n",
              "  </div>\n"
            ]
          },
          "metadata": {},
          "execution_count": 6
        }
      ]
    },
    {
      "cell_type": "code",
      "source": [
        "#3\n",
        "vacant_list = denton_housing[denton_housing['title_field'] == 'Vacant Housing Units']\n",
        "highest_diff= pd.concat([OHU[OHU['value'] == OHU['value'].max()],vacant_list[vacant_list['value'] == vacant_list['value'].max()]])\n",
        "print(highest_diff[['title_field','year','value']])"
      ],
      "metadata": {
        "colab": {
          "base_uri": "https://localhost:8080/"
        },
        "id": "FRy9IakzYD8L",
        "outputId": "da794dab-be71-485c-8631-59d317138231"
      },
      "execution_count": 7,
      "outputs": [
        {
          "output_type": "stream",
          "name": "stdout",
          "text": [
            "               title_field  year  value\n",
            "2   Occupied Housing Units  2014  46295\n",
            "19    Vacant Housing Units  2008   4483\n"
          ]
        }
      ]
    },
    {
      "cell_type": "code",
      "source": [
        "#4\n",
        "import statistics\n",
        "print('Harmonic mean  is {0}'.format(statistics.harmonic_mean(Total)))"
      ],
      "metadata": {
        "colab": {
          "base_uri": "https://localhost:8080/"
        },
        "id": "4jCItDxyYK8T",
        "outputId": "8a611907-da99-40b8-9175-019d32aa9569"
      },
      "execution_count": 8,
      "outputs": [
        {
          "output_type": "stream",
          "name": "stdout",
          "text": [
            "Harmonic mean  is 44398.28543969185\n"
          ]
        }
      ]
    }
  ],
  "metadata": {
    "colab": {
      "provenance": [],
      "include_colab_link": true
    },
    "kernelspec": {
      "display_name": "Python 3 (ipykernel)",
      "language": "python",
      "name": "python3"
    },
    "language_info": {
      "codemirror_mode": {
        "name": "ipython",
        "version": 3
      },
      "file_extension": ".py",
      "mimetype": "text/x-python",
      "name": "python",
      "nbconvert_exporter": "python",
      "pygments_lexer": "ipython3",
      "version": "3.9.12"
    }
  },
  "nbformat": 4,
  "nbformat_minor": 0
}